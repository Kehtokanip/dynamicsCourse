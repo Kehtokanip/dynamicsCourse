{
 "cells": [
  {
   "cell_type": "markdown",
   "metadata": {},
   "source": [
    "# Analysis of a car slowing down due to drag only\n",
    "This code analizes the effect of aerodynamic drag on a car's acceleration. Here, we apply one-dimensional Newtonian dynamics.\n",
    "\n",
    "By:\n",
    "**Juan A. Ramírez Macías**  \n",
    "*Mech. Eng. Professor*  \n",
    "*Universidad Pontificia Bolivariana*\n",
    "\n",
    "In this problem we assume that the car starts with some velocity $v_0$ and the only force is aerodynamic drag. This force slows down the car.\n",
    "![Fast car](./img/extremelyFastCar_wide.jpg)\n",
    "\n",
    "## The problem\n",
    "The assumptions are:\n",
    "- The coordinate is $x$ assumed positive to the right.\n",
    "- The aerodynamic drag is given by $F_A = -\\frac{1}{2} \\rho A C_A v ^ 2$, where $\\rho$ is density, $A$ is projected area, and $C_A$ is drag coefficient. This requires that $v > 0$ for the model to be valid.\n",
    "\n",
    "According to Newtonian dynamics\n",
    "$$ F = m a.$$\n",
    "If drag is the only force, then\n",
    "$$  -\\frac{1}{2} \\rho A C_A v ^ 2 = m a$$\n",
    "We define the drag constant $k_A = \\frac{1}{2} \\rho A C_A$. Then a more compact model is\n",
    "$$ -k_A v ^ 2 = m a .$$\n",
    "\n",
    "This means that the acceleration is given by\n",
    "$$ a = -\\frac{k_A}{m} v ^ 2.$$\n",
    "\n",
    "## Obtaining the velocity as a function of time\n",
    "We write the acceleration as\n",
    "$$ \\frac{dv}{dt} = -\\frac{k_A}{m} v ^ 2.$$\n",
    "Separating variables we obtain\n",
    "$$ \\frac{1}{v ^ 2}dv = -\\frac{k_A}{m} dt.$$\n",
    "Integrating from an initial condition to a generic future condition we write\n",
    "$$ \\int_{v_0}^{v}\\frac{1}{v ^ 2}dv = -\\int_{0}^{t}\\frac{k_A}{m} dt.$$\n",
    "Solving the integral we obtain\n",
    "$$ -\\left(\\frac{1}{v} - \\frac{1}{v_0} \\right)  = -\\frac{k_A}{m} t.$$\n",
    "Finally, rearranging the equation we obtain the expression for $v(t)$\n",
    "$$ v(t) = \\frac{1}{ \\frac{1}{v_0} + \\frac{k_A}{m} t} $$\n",
    "\n",
    "## Obtaining the position as a function of time\n",
    "We write the velocity as\n",
    "$$ \\frac{dx}{dt} = \\frac{1}{ \\frac{1}{v_0} + \\frac{k_A}{m} t} $$\n",
    "Separating variables we obtain\n",
    "$$ dx= \\frac{1}{ \\frac{1}{v_0} + \\frac{k_A}{m} t} dt$$\n",
    "Integrating from an initial condition to a generic future condition we write\n",
    "$$ \\int_{x_0}^{x} dx = \\int_{0}^t \\frac{1}{ \\frac{1}{v_0} + \\frac{k_A}{m} t} dt$$\n",
    "With the help of integral calculus we get\n",
    "$$ x - x_0 = \\frac{m}{k_A} \\operatorname{ln} \\left( 1 + \\frac{v_0 k_A}{m} t \\right) $$\n",
    "Finally, rearranging the equation we obtain the expression for $x(t)$\n",
    "$$ x(t) = x_0 + \\frac{m}{k_A} \\operatorname{ln} \\left( 1 + \\frac{v_0 k_A}{m} t \\right).$$\n",
    "Please note that the expression is only valid for $\\left( 1 + \\frac{v_0 k_A}{m} t \\right) > 0$, which is always true for positive constants and positive time."
   ]
  },
  {
   "cell_type": "markdown",
   "metadata": {},
   "source": [
    "## Import the required modules"
   ]
  },
  {
   "cell_type": "code",
   "execution_count": 4,
   "metadata": {
    "collapsed": true
   },
   "outputs": [],
   "source": [
    "import numpy as np\n",
    "%matplotlib inline\n",
    "import matplotlib.pyplot as plt"
   ]
  },
  {
   "cell_type": "markdown",
   "metadata": {},
   "source": [
    "## Define the parameters\n",
    "The model's parameters are:\n",
    "- Initial velocity: $v_0$ \n",
    "- Initial position: $x_0$\n",
    "- Mass: $m$\n",
    "- Drag constant $k_A = \\frac{1}{2} \\rho A C_A$,where $\\rho$ is density, $A$ is projected area, and $C_A$ is drag coefficient."
   ]
  },
  {
   "cell_type": "code",
   "execution_count": 5,
   "metadata": {
    "collapsed": false
   },
   "outputs": [
    {
     "name": "stdout",
     "output_type": "stream",
     "text": [
      "v0 = 22.2222222222 m/s\n",
      "Ka = 0.4103775 kg/m\n"
     ]
    }
   ],
   "source": [
    "# Initial velocity\n",
    "v0_kmh = 80. # km/h\n",
    "v0 = v0_kmh * 10. / 36. # m/s\n",
    "print \"v0 =\", v0, \"m/s\"\n",
    "\n",
    "# Initial position\n",
    "x0 = 0. # m\n",
    "\n",
    "# Drag constant\n",
    "rho = 1.22 # kg/ m^3\n",
    "A = 2.2425 # m^2\n",
    "Ca = 0.3\n",
    "Ka = 0.5 * rho * A * Ca\n",
    "print \"Ka =\", Ka, \"kg/m\"\n",
    "\n",
    "# Mass\n",
    "m = 1000. # kg"
   ]
  },
  {
   "cell_type": "markdown",
   "metadata": {},
   "source": [
    "## Compute arrays for time, position, velocity, and acceleration\n",
    "According to the model we compute the following.\n",
    "\n",
    "- Position:\n",
    "$$ x(t) = x_0 + \\frac{m}{k_A} ln \\left( 1 + \\frac{v_0 k_A}{m} t \\right) $$\n",
    "\n",
    "- Velocity:\n",
    "$$ v(t) = \\frac{1}{ \\frac{1}{v_0} + \\frac{k_A}{m} t} $$\n",
    "\n",
    "- Acceleration:\n",
    "$$ a(t) = -\\frac{k_A}{m} v^2 = -\\frac{k_A}{m} \\left( \\frac{1}{ \\frac{1}{v_0} + \\frac{k_A}{m} t} \\right) ^2 $$"
   ]
  },
  {
   "cell_type": "code",
   "execution_count": 6,
   "metadata": {
    "collapsed": false
   },
   "outputs": [],
   "source": [
    "# Arrays\n",
    "# Time\n",
    "t = np.linspace(0., 4. * 60., 101.)\n",
    "# Position\n",
    "x = x0 + m / Ka * np.log(1. + v0 * Ka * t / m)\n",
    "# Velocity\n",
    "v = 1. / (1. / v0 + Ka * t / m)\n",
    "# Aceleration\n",
    "a = -Ka / m * v ** 2"
   ]
  },
  {
   "cell_type": "markdown",
   "metadata": {},
   "source": [
    "## Plots"
   ]
  },
  {
   "cell_type": "code",
   "execution_count": 7,
   "metadata": {
    "collapsed": false
   },
   "outputs": [
    {
     "data": {
      "image/png": "[encoded data removed]",
      "text/plain": [
       "<matplotlib.figure.Figure at 0x74d8748>"
      ]
     },
     "metadata": {},
     "output_type": "display_data"
    }
   ],
   "source": [
    "plt.figure()\n",
    "\n",
    "# Position\n",
    "plt.subplot(3,1,1)\n",
    "plt.plot(t, x)\n",
    "plt.ylabel(\"Posicion (m)\")\n",
    "plt.grid()\n",
    "\n",
    "# Velocity\n",
    "plt.subplot(3,1,2)\n",
    "plt.plot(t, v * 3.6)\n",
    "plt.ylabel(\"Velocidad (km/h)\")\n",
    "plt.grid()\n",
    "\n",
    "# Acceleration\n",
    "plt.subplot(3,1,3)\n",
    "plt.plot(t, a)\n",
    "plt.xlabel(\"Tiempo (s)\")\n",
    "plt.ylabel(\"Aceleracion (m/s^2)\")\n",
    "plt.grid()"
   ]
  }
 ],
 "metadata": {
  "kernelspec": {
   "display_name": "Python 2",
   "language": "python",
   "name": "python2"
  },
  "language_info": {
   "codemirror_mode": {
    "name": "ipython",
    "version": 2
   },
   "file_extension": ".py",
   "mimetype": "text/x-python",
   "name": "python",
   "nbconvert_exporter": "python",
   "pygments_lexer": "ipython2",
   "version": "2.7.13"
  }
 },
 "nbformat": 4,
 "nbformat_minor": 2
}
