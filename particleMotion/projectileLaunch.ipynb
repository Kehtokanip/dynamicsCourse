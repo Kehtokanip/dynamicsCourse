{
 "cells": [
  {
   "cell_type": "markdown",
   "metadata": {},
   "source": [
    "# Projectile launch\n",
    "This code ilustrates two-dimensional particle kinematics by studying classical projectile launch.\n",
    "\n",
    "![Projectile](./img/projectileLaunch.png)\n",
    "\n",
    "By:\n",
    "**Juan A. Ramírez Macías**  \n",
    "*Mech. Eng. Professor*  \n",
    "*Universidad Pontificia Bolivariana*"
   ]
  },
  {
   "cell_type": "markdown",
   "metadata": {},
   "source": [
    "## Projectile model\n",
    "The model assumes a projectile that is launched from a foreknown initial velocity $\\vec{v}_0$ at time $t = 0$. The idea if to compute the curves for position and velocity as functions of time.\n",
    "\n",
    "### Reference frame\n",
    "In this problem the reference frame is chosen with $x$-coordinate positive right and $y$-coordinate positive up.\n",
    "\n",
    "### Newtonian model\n",
    "The classical model for projectile launch comes from Newtonian mechanics, where Newton's second law is given by\n",
    "$$\\vec{F} = m \\vec{a}.$$\n",
    "If the only force is weight, given by $\\vec{W} = \\left[\\begin{array}{c} 0 \\\\ -mg \\end{array}\\right]$, the dynamic model becomes $\\vec{W} = m \\vec{a}$. Explicitly, this is\n",
    "$$\\left[\\begin{array}{c} 0 \\\\ -mg \\end{array}\\right] = m \\left[\\begin{array}{c} a_x \\\\ a_y \\end{array}\\right].$$\n",
    "If we write the model component-wise, we get\n",
    "$$a_y = - g$$\n",
    "and\n",
    "$$a_x = 0.$$\n",
    "\n",
    "### Obtaining velocity\n",
    "Using the idea that acceleration is the derivative of velocity we get for $x$-direction\n",
    "$$\\frac{d v_x}{dt} = 0$$\n",
    "and for $y$-direction\n",
    "$$\\frac{d v_y}{dt} = - g.$$\n",
    "Separating variables we get for $x$-direction\n",
    "$$d v_x = 0$$\n",
    "and for $y$-direction\n",
    "$$ d v_y = - g dt.$$\n",
    "If we integrate from a foreknown initial velocity given by\n",
    "$\\vec{v}(0) = \\left[\\begin{array}{c} v_{x0} \\\\ v_{y0} \\end{array}\\right]$ at time $t = 0$\n",
    "to an arbitrary velocity $\\vec{v} = \\left[\\begin{array}{c} v_{x} \\\\ v_{y} \\end{array}\\right]$ at a time $t$, we get for $x$-direction\n",
    "$$\\int_{V_{x0}}^{V_x} d v_x = 0, \\quad v_x - v_{x0} = 0$$\n",
    "and for $y$-direction\n",
    "$$\\int_{V_{y0}}^{V_y} d V_y = - \\int_0^t g dt, \\quad V_y - V_{y0} = - g t.$$\n",
    "\n",
    "This gives the expressions for $x$-direction\n",
    "$$v_x (t) = v_{x0} \\cos(\\theta)$$\n",
    "and for $y$-direction\n",
    "$$v_y (t) = v_{y0} - g t$$\n",
    "\n",
    "If we parametrize the initial velocity using magnitude and angle, we define $$v_{x0} = v_0 \\cos(\\theta)$$ and $$v_{y0} = v_0 \\sin(\\theta)$$\n",
    "\n",
    "This given, we get for $x$-direction\n",
    "$$v_x (t)= v_0 \\cos(\\theta)$$\n",
    "and for $y$-direction\n",
    "$$v_y (t) = v_0 \\sin(\\theta) - g t.$$\n",
    "\n",
    "### Obtaining position\n",
    "Using the idea that velocity is the derivative of position we get for $x$-direction\n",
    "$$\\frac{d x}{dt} = v_0 \\cos(\\theta)$$\n",
    "and for $y$-direction\n",
    "$$\\frac{d y}{dt} = v_0 \\sin(\\theta) - g t.$$\n",
    "Separating variables we get for $x$-direction\n",
    "$$d x = v_0 \\cos(\\theta) dt$$\n",
    "and for $y$-direction\n",
    "$$ d y = \\left( v_0 \\sin(\\theta) - g t \\right) dt.$$\n",
    "If we integrate from a foreknown initial position given by\n",
    "$\\vec{r}(0) = \\left[\\begin{array}{c} x_{0} \\\\ y_{0} \\end{array}\\right]$ at time $t = 0$\n",
    "to an arbitrary position $\\vec{r} = \\left[\\begin{array}{c} {x} \\\\ {y} \\end{array}\\right]$ at a time $t$, we get for $x$-direction\n",
    "$$\\int_{x_{0}}^{x} d x = \\int_{0}^{t} v_0 \\cos(\\theta)  dt, \\quad x - x_{0} = v_0 \\cos(\\theta) t$$\n",
    "and for $y$-direction\n",
    "$$\\int_{y_{0}}^{y} d y = \\int_{0}^{t} \\left( v_0 \\sin(\\theta) - g t \\right) dt, \\quad y - y_{0} = v_0 \\sin(\\theta) t - \\frac{1}{2}g t^2.$$\n",
    "\n",
    "This given, we get for $x$-direction\n",
    "$$x(t) = x_0 + v_0 \\cos(\\theta) t$$\n",
    "and for $y$-direction\n",
    "$$y(t) = y_0 + v_0 \\sin(\\theta) t - \\frac{1}{2} g t ^ 2.$$"
   ]
  },
  {
   "cell_type": "markdown",
   "metadata": {},
   "source": [
    "## Import required Python modules"
   ]
  },
  {
   "cell_type": "code",
   "execution_count": 9,
   "metadata": {
    "collapsed": true
   },
   "outputs": [],
   "source": [
    "import numpy as np\n",
    "%matplotlib inline\n",
    "import matplotlib.pyplot as plt"
   ]
  },
  {
   "cell_type": "markdown",
   "metadata": {},
   "source": [
    "## Launch conditions\n",
    "Launch conditions are given by initial position and velocity"
   ]
  },
  {
   "cell_type": "code",
   "execution_count": 10,
   "metadata": {
    "collapsed": false,
    "scrolled": true
   },
   "outputs": [],
   "source": [
    "# Initial condition at t = 0\n",
    "# Position\n",
    "x0 = 0.0\n",
    "y0 = 0.0\n",
    "\n",
    "# Velocity\n",
    "v0 = 10.0\n",
    "# Angle\n",
    "theta = np.pi / 4.\n",
    "\n",
    "# Gravity\n",
    "g = 9.8"
   ]
  },
  {
   "cell_type": "markdown",
   "metadata": {},
   "source": [
    "## Computation of the trajectory and velocity\n",
    "To plot trajectory and velocity, the equations are\n",
    "### Position\n",
    "$x$-direction:\n",
    "$$x(t) = x_0 + v_0 \\cos(\\theta) t.$$\n",
    "$y$-direction:\n",
    "$$y(t) = y_0 + v_0 \\sin(\\theta) t - \\frac{1}{2} g t ^ 2.$$\n",
    "### Velocity\n",
    "$x$-direction:\n",
    "$$v_x (t)= v_0 \\cos(\\theta).$$\n",
    "$y$-direction:\n",
    "$$v_y (t) = v_0 \\sin(\\theta) - g t.$$"
   ]
  },
  {
   "cell_type": "code",
   "execution_count": 11,
   "metadata": {
    "collapsed": true
   },
   "outputs": [],
   "source": [
    "# Time in seconds\n",
    "t = np.linspace(0.,1.,100.)\n",
    "# Position in meters\n",
    "x = x0 + v0 * np.cos(theta) * t\n",
    "y = y0 + v0 * np.sin(theta) * t - 0.5 * g * t ** 2 \n",
    "# Velocity in m/s\n",
    "Vx = v0 * np.cos(theta) * np.ones_like(t)\n",
    "Vy = v0 * np.sin(theta) - g * t"
   ]
  },
  {
   "cell_type": "markdown",
   "metadata": {},
   "source": [
    "## Plot of the trajectory\n",
    "Here, we plot $y$ vs $x$. Then, we plot the velocity vector $\\vec{v}$ on different points."
   ]
  },
  {
   "cell_type": "code",
   "execution_count": 12,
   "metadata": {
    "collapsed": false
   },
   "outputs": [
    {
     "data": {
      "image/png": "[encoded data removed]",
      "text/plain": [
       "<matplotlib.figure.Figure at 0x8687828>"
      ]
     },
     "metadata": {},
     "output_type": "display_data"
    }
   ],
   "source": [
    "plt.figure()\n",
    "# Trajectories plot\n",
    "plt.plot(x, y, ':')\n",
    "plt.plot(x[0], y[0], '+')\n",
    "plt.plot(x[-1], y[-1], '.k')\n",
    "# Velocity field plot\n",
    "plt.quiver(x[::10], y[::10], Vx[::10], Vy[::10])\n",
    "# Axes settings\n",
    "plt.xlabel('$x$ (m)')\n",
    "plt.ylabel('$y$ (m)')\n",
    "plt.axis('equal')\n",
    "plt.show()"
   ]
  },
  {
   "cell_type": "markdown",
   "metadata": {},
   "source": [
    "## Time plots\n",
    "Here we plot the different variables as a function of time:\n",
    "- $x$ vs $t$ and $y$ vs $t$\n",
    "- $V_x$ vs $t$ and $V_y$ vs $t$"
   ]
  },
  {
   "cell_type": "code",
   "execution_count": 13,
   "metadata": {
    "collapsed": false
   },
   "outputs": [
    {
     "data": {
      "image/png": "[encoded data removed]",
      "text/plain": [
       "<matplotlib.figure.Figure at 0x74a17f0>"
      ]
     },
     "metadata": {},
     "output_type": "display_data"
    }
   ],
   "source": [
    "plt.figure()\n",
    "\n",
    "# Position\n",
    "plt.subplot(211)\n",
    "plt.plot(t,x)\n",
    "plt.plot(t,y)\n",
    "plt.ylabel('$x$, $y$ (m)')\n",
    "plt.legend(['$x$', '$y$'])\n",
    "plt.grid()\n",
    "\n",
    "# Velocity\n",
    "plt.subplot(212)\n",
    "plt.plot(t,Vx)\n",
    "plt.plot(t,Vy)\n",
    "plt.xlabel('t (s)')\n",
    "plt.ylabel('$V_x$, $V_y$ (m/s)')\n",
    "plt.legend(['$V_x$', '$V_y$'])\n",
    "plt.grid()\n",
    "plt.show()"
   ]
  }
 ],
 "metadata": {
  "kernelspec": {
   "display_name": "Python 2",
   "language": "python",
   "name": "python2"
  },
  "language_info": {
   "codemirror_mode": {
    "name": "ipython",
    "version": 2
   },
   "file_extension": ".py",
   "mimetype": "text/x-python",
   "name": "python",
   "nbconvert_exporter": "python",
   "pygments_lexer": "ipython2",
   "version": "2.7.13"
  }
 },
 "nbformat": 4,
 "nbformat_minor": 2
}
